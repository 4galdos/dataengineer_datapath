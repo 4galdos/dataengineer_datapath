{
 "cells": [
  {
   "cell_type": "markdown",
   "id": "1fd97fa9",
   "metadata": {},
   "source": [
    "### 📦 Importar las bibliotecas necesarias y crear una SparkSession"
   ]
  },
  {
   "cell_type": "code",
   "execution_count": null,
   "id": "0f44d32f",
   "metadata": {},
   "outputs": [],
   "source": [
    "\n",
    "\n",
    "from pyspark.sql import SparkSession\n",
    "from pyspark.sql.functions import col, lit, avg, count, sum, min, max, when, concat_ws\n",
    "\n",
    "spark = SparkSession.builder.appName(\"Ejercicios PySpark\").getOrCreate()\n"
   ]
  },
  {
   "cell_type": "markdown",
   "id": "ab753305",
   "metadata": {},
   "source": [
    "### 🧪 1. Crear un DataFrame con datos de personas, que incluya nombre, edad y ciudad de residencia."
   ]
  },
  {
   "cell_type": "code",
   "execution_count": null,
   "id": "0ad196d9",
   "metadata": {},
   "outputs": [],
   "source": [
    "\n",
    "data = [(\"Alice\", 25, \"New York\"),\n",
    "        (\"Bob\", 30, \"Los Angeles\"),\n",
    "        (\"Charlie\", 22, \"Chicago\")]\n",
    "\n",
    "columns = [\"Nombre\", \"Edad\", \"Ciudad\"]\n",
    "df = spark.createDataFrame(data, columns)\n",
    "df.show()\n"
   ]
  },
  {
   "cell_type": "markdown",
   "id": "e70a3cba",
   "metadata": {},
   "source": [
    "### 🧍 2. Mostrar solo los nombres de las personas del DataFrame."
   ]
  },
  {
   "cell_type": "code",
   "execution_count": null,
   "id": "bd59d34a",
   "metadata": {},
   "outputs": [],
   "source": [
    "df.select(\"Nombre\").show()"
   ]
  },
  {
   "cell_type": "markdown",
   "id": "f45b7274",
   "metadata": {},
   "source": [
    "### 🔎 3. Filtrar personas cuya edad sea mayor o igual a 25."
   ]
  },
  {
   "cell_type": "code",
   "execution_count": null,
   "id": "71fd107d",
   "metadata": {},
   "outputs": [],
   "source": [
    "df.filter(col(\"Edad\") >= 25).show()"
   ]
  },
  {
   "cell_type": "markdown",
   "id": "c259abb6",
   "metadata": {},
   "source": [
    "### 🌍 4. Agregar una nueva columna 'Pais' con un valor constante para todas las filas."
   ]
  },
  {
   "cell_type": "code",
   "execution_count": null,
   "id": "afce1861",
   "metadata": {},
   "outputs": [],
   "source": [
    "df = df.withColumn(\"Pais\", lit(\"Estados Unidos\"))\n",
    "df.show()"
   ]
  },
  {
   "cell_type": "markdown",
   "id": "4aec2870",
   "metadata": {},
   "source": [
    "### 📊 5. Calcular el promedio de edad de todas las personas."
   ]
  },
  {
   "cell_type": "code",
   "execution_count": null,
   "id": "d6d11fab",
   "metadata": {},
   "outputs": [],
   "source": [
    "df.select(avg(\"Edad\").alias(\"PromedioEdad\")).show()"
   ]
  },
  {
   "cell_type": "markdown",
   "id": "30bdd493",
   "metadata": {},
   "source": [
    "### 🔽 6. Ordenar el DataFrame por edad en orden descendente."
   ]
  },
  {
   "cell_type": "code",
   "execution_count": null,
   "id": "74b92e18",
   "metadata": {},
   "outputs": [],
   "source": [
    "df.orderBy(col(\"Edad\").desc()).show()"
   ]
  },
  {
   "cell_type": "markdown",
   "id": "4b78bb74",
   "metadata": {},
   "source": [
    "### 🏙️ 7. Agrupar por ciudad y calcular la cantidad de personas en cada ciudad."
   ]
  },
  {
   "cell_type": "code",
   "execution_count": null,
   "id": "786d2a32",
   "metadata": {},
   "outputs": [],
   "source": [
    "df.groupBy(\"Ciudad\").agg(count(\"*\").alias(\"CantidadPersonas\")).show()"
   ]
  },
  {
   "cell_type": "markdown",
   "id": "a2d1a429",
   "metadata": {},
   "source": [
    "### ✏️ 8. Renombrar la columna 'Nombre' a 'NombreCompleto'."
   ]
  },
  {
   "cell_type": "code",
   "execution_count": null,
   "id": "b5c34563",
   "metadata": {},
   "outputs": [],
   "source": [
    "df = df.withColumnRenamed(\"Nombre\", \"NombreCompleto\")\n",
    "df.show()"
   ]
  },
  {
   "cell_type": "markdown",
   "id": "e7dc9936",
   "metadata": {},
   "source": [
    "### ❌ 9. Eliminar la columna 'Edad' del DataFrame."
   ]
  },
  {
   "cell_type": "code",
   "execution_count": null,
   "id": "98e77317",
   "metadata": {},
   "outputs": [],
   "source": [
    "df_sin_edad = df.drop(\"Edad\")\n",
    "df_sin_edad.show()"
   ]
  },
  {
   "cell_type": "markdown",
   "id": "30a7cf79",
   "metadata": {},
   "source": [
    "### 🔍 10. Realizar una consulta SQL en el DataFrame para seleccionar personas mayores de 20 años."
   ]
  },
  {
   "cell_type": "code",
   "execution_count": null,
   "id": "72fa9ab2",
   "metadata": {},
   "outputs": [],
   "source": [
    "df.createOrReplaceTempView(\"personas\")\n",
    "spark.sql(\"SELECT * FROM personas WHERE Edad > 20\").show()"
   ]
  },
  {
   "cell_type": "markdown",
   "id": "781724df",
   "metadata": {},
   "source": [
    "### ➕ 11. Calcular la suma total de todas las edades."
   ]
  },
  {
   "cell_type": "code",
   "execution_count": null,
   "id": "e4a46a0a",
   "metadata": {},
   "outputs": [],
   "source": [
    "df.select(sum(\"Edad\").alias(\"SumaTotalEdad\")).show()"
   ]
  },
  {
   "cell_type": "markdown",
   "id": "426b4f06",
   "metadata": {},
   "source": [
    "### 📉 12. Calcular la edad mínima y máxima de todas las personas."
   ]
  },
  {
   "cell_type": "code",
   "execution_count": null,
   "id": "92db9aa3",
   "metadata": {},
   "outputs": [],
   "source": [
    "df.select(min(\"Edad\").alias(\"EdadMinima\"), max(\"Edad\").alias(\"EdadMaxima\")).show()"
   ]
  },
  {
   "cell_type": "markdown",
   "id": "68551dec",
   "metadata": {},
   "source": [
    "### 🌆 13. Filtrar personas cuya ciudad de residencia sea 'Chicago' y edad sea menor de 30."
   ]
  },
  {
   "cell_type": "code",
   "execution_count": null,
   "id": "cbe5a612",
   "metadata": {},
   "outputs": [],
   "source": [
    "df.filter((col(\"Ciudad\") == \"Chicago\") & (col(\"Edad\") < 30)).show()"
   ]
  },
  {
   "cell_type": "markdown",
   "id": "88e04149",
   "metadata": {},
   "source": [
    "### 🎯 14. Agregar una nueva columna 'EdadDuplicada' que contenga el doble de la edad."
   ]
  },
  {
   "cell_type": "code",
   "execution_count": null,
   "id": "7d768a9f",
   "metadata": {},
   "outputs": [],
   "source": [
    "df = df.withColumn(\"EdadDuplicada\", col(\"Edad\") * 2)\n",
    "df.show()"
   ]
  },
  {
   "cell_type": "markdown",
   "id": "ecf4b9f3",
   "metadata": {},
   "source": [
    "### 📅 15. Convertir todas las edades en años a meses."
   ]
  },
  {
   "cell_type": "code",
   "execution_count": null,
   "id": "1f2d6aee",
   "metadata": {},
   "outputs": [],
   "source": [
    "df = df.withColumn(\"EdadEnMeses\", col(\"Edad\") * 12)\n",
    "df.show()"
   ]
  },
  {
   "cell_type": "markdown",
   "id": "a58e733c",
   "metadata": {},
   "source": [
    "### 👥 16. Contar el número total de personas en el DataFrame."
   ]
  },
  {
   "cell_type": "code",
   "execution_count": null,
   "id": "0f80d02b",
   "metadata": {},
   "outputs": [],
   "source": [
    "df.count()"
   ]
  },
  {
   "cell_type": "markdown",
   "id": "aab07ca9",
   "metadata": {},
   "source": [
    "### 🔢 17. Filtrar personas cuya edad sea un número par."
   ]
  },
  {
   "cell_type": "code",
   "execution_count": null,
   "id": "f6e6c0bf",
   "metadata": {},
   "outputs": [],
   "source": [
    "df.filter((col(\"Edad\") % 2) == 0).show()"
   ]
  },
  {
   "cell_type": "markdown",
   "id": "55f02e82",
   "metadata": {},
   "source": [
    "### 📈 18. Calcular la cantidad de personas por rango de edades (0-20, 21-40, 41-60, 61+)."
   ]
  },
  {
   "cell_type": "code",
   "execution_count": null,
   "id": "9735c627",
   "metadata": {},
   "outputs": [],
   "source": [
    "\n",
    "df = df.withColumn(\"RangoEdad\", when(col(\"Edad\") <= 20, \"0-20\")\n",
    "                               .when((col(\"Edad\") > 20) & (col(\"Edad\") <= 40), \"21-40\")\n",
    "                               .when((col(\"Edad\") > 40) & (col(\"Edad\") <= 60), \"41-60\")\n",
    "                               .otherwise(\"61+\"))\n",
    "df.groupBy(\"RangoEdad\").count().show()\n"
   ]
  },
  {
   "cell_type": "markdown",
   "id": "f9710c16",
   "metadata": {},
   "source": [
    "### 🔁 19. Contar cuántas personas tienen el mismo nombre."
   ]
  },
  {
   "cell_type": "code",
   "execution_count": null,
   "id": "04eeffa9",
   "metadata": {},
   "outputs": [],
   "source": [
    "df.groupBy(\"NombreCompleto\").count().show()"
   ]
  },
  {
   "cell_type": "markdown",
   "id": "bf24afb5",
   "metadata": {},
   "source": [
    "### 🧩 20. Concatenar las columnas 'Nombre' y 'Ciudad' en una nueva columna llamada 'InformacionPersonal'."
   ]
  },
  {
   "cell_type": "code",
   "execution_count": null,
   "id": "37665985",
   "metadata": {},
   "outputs": [],
   "source": [
    "df = df.withColumn(\"InformacionPersonal\", concat_ws(\" - \", col(\"NombreCompleto\"), col(\"Ciudad\")))\n",
    "df.select(\"InformacionPersonal\").show()"
   ]
  }
 ],
 "metadata": {
  "kernelspec": {
   "display_name": "Python 3",
   "language": "python",
   "name": "python3"
  },
  "language_info": {
   "codemirror_mode": {
    "name": "ipython",
    "version": 3
   },
   "file_extension": ".py",
   "mimetype": "text/x-python",
   "name": "python",
   "nbconvert_exporter": "python",
   "pygments_lexer": "ipython3",
   "version": "3.12.6"
  }
 },
 "nbformat": 4,
 "nbformat_minor": 5
}
